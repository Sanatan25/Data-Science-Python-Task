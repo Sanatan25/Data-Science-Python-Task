{
 "cells": [
  {
   "cell_type": "code",
   "execution_count": 1,
   "id": "e933b2fb-ef98-458e-80e5-f920eaec4d7b",
   "metadata": {},
   "outputs": [],
   "source": [
    "from functools import reduce"
   ]
  },
  {
   "cell_type": "code",
   "execution_count": null,
   "id": "94d7e025-6f0e-4b7b-a6b3-0c8184338106",
   "metadata": {},
   "outputs": [],
   "source": [
    "##Q1\n",
    "from functools import reduce\n",
    "\n",
    "def prod_list(list1):\n",
    "    flat_list = []\n",
    "\n",
    "    for i in list1:\n",
    "    # check if element is list or number\n",
    "        if type(i) == list or type(i) == tuple or type(i) == set or type(i) == dict:\n",
    "        # iterate over each nested list\n",
    "            for j in i:\n",
    "            # check if element is number\n",
    "                if type(j) == int or type(j) == float:\n",
    "                    flat_list.append(j)\n",
    "                elif type(j) == dict:\n",
    "                    for k,v in j.items():\n",
    "                        if type(v) == int or type(v) == float:\n",
    "                            flat_list.append(v)\n",
    "\n",
    "                elif type(j) == list or type(j) == tuple:\n",
    "                    for k in j:\n",
    "                        if type(k) == int or type(k) == float:\n",
    "                            flat_list.append(k)\n",
    "        else:\n",
    "        # check if element is number\n",
    "            if type(i) == int or type(i) == float:\n",
    "                flat_list.append(i)\n",
    "\n",
    "# calculate product of list\n",
    "\n",
    "    return flat_list\n",
    "    #reduce(lambda x,y:x*y , flat_list)\n",
    "\n",
    "def productofnumbers(mylist):\n",
    "    flat_list = prod_list(mylist)\n",
    "    product = 1\n",
    "    for num in flat_list:\n",
    "        product *= num\n",
    "    return product\n",
    "\n",
    "# Given list\n",
    "list1 = [1, 2, 3, 4, [44, 55, 66, True], False, (34, 56, 78, 89, 34), {1, 2, 3, 3, 2, 1},\n",
    "         {1: 34, \"key2\": [55, 67, 78, 89], 4: (45, 22, 61, 34)}, [56, 'data science'], 'Machine Learning']\n",
    "result = productofnumbers(list1)\n",
    "print(result)"
   ]
  },
  {
   "cell_type": "code",
   "execution_count": null,
   "id": "fdbfdfa0-af63-43ba-aac9-c3265e582d81",
   "metadata": {},
   "outputs": [],
   "source": [
    "##Q2\n",
    "def encrypt_message(message):\n",
    "    encrypted = ''\n",
    "    \n",
    "    for char in message:\n",
    "        if char.isalpha():\n",
    "            encrypted_char = chr(122 - (ord(char) - 97))  # Mapping lowercase letters\n",
    "        elif char == ' ':\n",
    "            encrypted_char = '$'  # Replace whitespace with dollar sign\n",
    "        else:\n",
    "            encrypted_char = char  # Keep punctuation marks unchanged\n",
    "        \n",
    "        encrypted += encrypted_char\n",
    "    \n",
    "    return encrypted\n",
    "\n",
    "# Input sentence\n",
    "input_sentence = \"I want to become a Data Scientist.\"\n",
    "\n",
    "# Convert input sentence to lowercase\n",
    "input_sentence_lower = input_sentence.lower()\n",
    "\n",
    "# Encrypt the input sentence\n",
    "encrypted_output = encrypt_message(input_sentence_lower)\n",
    "\n",
    "print(\"Encrypted message:\", encrypted_output)\n",
    "\n"
   ]
  }
 ],
 "metadata": {
  "kernelspec": {
   "display_name": "Python 3 (ipykernel)",
   "language": "python",
   "name": "python3"
  },
  "language_info": {
   "codemirror_mode": {
    "name": "ipython",
    "version": 3
   },
   "file_extension": ".py",
   "mimetype": "text/x-python",
   "name": "python",
   "nbconvert_exporter": "python",
   "pygments_lexer": "ipython3",
   "version": "3.10.8"
  }
 },
 "nbformat": 4,
 "nbformat_minor": 5
}
