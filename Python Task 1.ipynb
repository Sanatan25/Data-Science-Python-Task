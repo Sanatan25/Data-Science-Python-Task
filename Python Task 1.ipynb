{
 "cells": [
  {
   "cell_type": "code",
   "execution_count": 2,
   "id": "e933b2fb-ef98-458e-80e5-f920eaec4d7b",
   "metadata": {},
   "outputs": [],
   "source": [
    "from functools import reduce"
   ]
  },
  {
   "cell_type": "code",
   "execution_count": 9,
   "id": "05b70a60-3795-4b73-8b5b-cb28000b376f",
   "metadata": {},
   "outputs": [],
   "source": [
    "list1 = [1,2,3,4, [44,55,66, True], False, (34,56,78,89,34), {1,2,3,3,2,1}, {1:34, \"key2\": [55, 67, 78, 89], 4: (45,\n",
    "22, 61, 34)}, [56, 'data science'], 'Machine Learning']\n",
    "def prod_list(list1):\n",
    "    \n",
    "    for i in list1: \n",
    "        flat_list = []\n",
    "\n",
    "    # check if element is list or number \n",
    "        if type(i) == list or type(i) == tuple or type(i) == set or type(i) == dict: \n",
    "        # iterate over each nested list \n",
    "            for j in i: \n",
    "            # check if element is number \n",
    "                if type(j) == int or type(j) == float: \n",
    "                    flat_list.append(j) \n",
    "                elif type(j) == dict:\n",
    "                    for k,v in j.items():\n",
    "                        if type(v) == int or type(v) == float:\n",
    "                            flat_list.append(v)\n",
    "\n",
    "                elif type(j) == list or type(j) == tuple:\n",
    "                    for k in j:\n",
    "                        if type(k) == int or type(k) == float:\n",
    "                            flat_list.append(k)\n",
    "        else: \n",
    "        # check if element is number \n",
    "            if type(i) == int or type(i) == float: \n",
    "                flat_list.append(i) \n",
    "\n",
    "# calculate product of list \n",
    "    return(flat_list)\n",
    "    reduce(lambda x,y:x*y , flat_list)"
   ]
  },
  {
   "cell_type": "code",
   "execution_count": null,
   "id": "cf92abef-8a5c-4718-b94a-7b9824f29d2b",
   "metadata": {},
   "outputs": [],
   "source": []
  }
 ],
 "metadata": {
  "kernelspec": {
   "display_name": "Python 3 (ipykernel)",
   "language": "python",
   "name": "python3"
  },
  "language_info": {
   "codemirror_mode": {
    "name": "ipython",
    "version": 3
   },
   "file_extension": ".py",
   "mimetype": "text/x-python",
   "name": "python",
   "nbconvert_exporter": "python",
   "pygments_lexer": "ipython3",
   "version": "3.10.8"
  }
 },
 "nbformat": 4,
 "nbformat_minor": 5
}
